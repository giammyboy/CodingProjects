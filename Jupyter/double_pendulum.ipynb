{
  "cells": [
    {
      "cell_type": "code",
      "execution_count": 4,
      "metadata": {
        "collapsed": false
      },
      "outputs": [],
      "source": [
        "%matplotlib inline"
      ]
    },
    {
      "cell_type": "markdown",
      "metadata": {},
      "source": [
        "\n",
        "# The double pendulum problem\n",
        "\n",
        "This animation illustrates the double pendulum problem.\n",
        "\n",
        "Double pendulum formula translated from the C code at\n",
        "http://www.physics.usyd.edu.au/~wheat/dpend_html/solve_dpend.c\n"
      ]
    },
    {
      "cell_type": "code",
      "execution_count": 5,
      "metadata": {
        "collapsed": false
      },
      "outputs": [
        {
          "data": {
            "image/png": "[encoded data removed]",
            "text/plain": [
              "<Figure size 500x400 with 1 Axes>"
            ]
          },
          "metadata": {},
          "output_type": "display_data"
        }
      ],
      "source": [
        "from numpy import sin, cos\n",
        "import numpy as np\n",
        "import matplotlib.pyplot as plt\n",
        "import matplotlib.animation as animation\n",
        "from collections import deque\n",
        "\n",
        "G = 9.8  # acceleration due to gravity, in m/s^2\n",
        "L1 = 1.0  # length of pendulum 1 in m\n",
        "L2 = 1.0  # length of pendulum 2 in m\n",
        "L = L1 + L2  # maximal length of the combined pendulum\n",
        "M1 = 1.0  # mass of pendulum 1 in kg\n",
        "M2 = 1.0  # mass of pendulum 2 in kg\n",
        "t_stop = 2.5  # how many seconds to simulate\n",
        "history_len = 500  # how many trajectory points to display\n",
        "\n",
        "\n",
        "def derivs(t, state):\n",
        "    dydx = np.zeros_like(state)\n",
        "\n",
        "    dydx[0] = state[1]\n",
        "\n",
        "    delta = state[2] - state[0]\n",
        "    den1 = (M1+M2) * L1 - M2 * L1 * cos(delta) * cos(delta)\n",
        "    dydx[1] = ((M2 * L1 * state[1] * state[1] * sin(delta) * cos(delta)\n",
        "                + M2 * G * sin(state[2]) * cos(delta)\n",
        "                + M2 * L2 * state[3] * state[3] * sin(delta)\n",
        "                - (M1+M2) * G * sin(state[0]))\n",
        "               / den1)\n",
        "\n",
        "    dydx[2] = state[3]\n",
        "\n",
        "    den2 = (L2/L1) * den1\n",
        "    dydx[3] = ((- M2 * L2 * state[3] * state[3] * sin(delta) * cos(delta)\n",
        "                + (M1+M2) * G * sin(state[0]) * cos(delta)\n",
        "                - (M1+M2) * L1 * state[1] * state[1] * sin(delta)\n",
        "                - (M1+M2) * G * sin(state[2]))\n",
        "               / den2)\n",
        "\n",
        "    return dydx\n",
        "\n",
        "# create a time array from 0..t_stop sampled at 0.02 second steps\n",
        "dt = 0.01\n",
        "t = np.arange(0, t_stop, dt)\n",
        "\n",
        "# th1 and th2 are the initial angles (degrees)\n",
        "# w10 and w20 are the initial angular velocities (degrees per second)\n",
        "th1 = 120.0\n",
        "w1 = 0.0\n",
        "th2 = -10.0\n",
        "w2 = 0.0\n",
        "\n",
        "# initial state\n",
        "state = np.radians([th1, w1, th2, w2])\n",
        "\n",
        "# integrate the ODE using Euler's method\n",
        "y = np.empty((len(t), 4))\n",
        "y[0] = state\n",
        "for i in range(1, len(t)):\n",
        "    y[i] = y[i - 1] + derivs(t[i - 1], y[i - 1]) * dt\n",
        "\n",
        "# A more accurate estimate could be obtained e.g. using scipy:\n",
        "#\n",
        "#   y = scipy.integrate.solve_ivp(derivs, t[[0, -1]], state, t_eval=t).y.T\n",
        "\n",
        "x1 = L1*sin(y[:, 0])\n",
        "y1 = -L1*cos(y[:, 0])\n",
        "\n",
        "x2 = L2*sin(y[:, 2]) + x1\n",
        "y2 = -L2*cos(y[:, 2]) + y1\n",
        "\n",
        "fig = plt.figure(figsize=(5, 4))\n",
        "ax = fig.add_subplot(autoscale_on=False, xlim=(-L, L), ylim=(-L, 1.))\n",
        "ax.set_aspect('equal')\n",
        "ax.grid()\n",
        "\n",
        "line, = ax.plot([], [], 'o-', lw=2)\n",
        "trace, = ax.plot([], [], '.-', lw=1, ms=2)\n",
        "time_template = 'time = %.1fs'\n",
        "time_text = ax.text(0.05, 0.9, '', transform=ax.transAxes)\n",
        "history_x, history_y = deque(maxlen=history_len), deque(maxlen=history_len)\n",
        "\n",
        "\n",
        "def animate(i):\n",
        "    thisx = [0, x1[i], x2[i]]\n",
        "    thisy = [0, y1[i], y2[i]]\n",
        "\n",
        "    if i == 0:\n",
        "        history_x.clear()\n",
        "        history_y.clear()\n",
        "\n",
        "    history_x.appendleft(thisx[2])\n",
        "    history_y.appendleft(thisy[2])\n",
        "\n",
        "    line.set_data(thisx, thisy)\n",
        "    trace.set_data(history_x, history_y)\n",
        "    time_text.set_text(time_template % (i*dt))\n",
        "    return line, trace, time_text\n",
        "\n",
        "\n",
        "ani = animation.FuncAnimation(\n",
        "    fig, animate, len(y), interval=dt*1000, blit=True)\n",
        "plt.show()"
      ]
    }
  ],
  "metadata": {
    "kernelspec": {
      "display_name": "Python 3",
      "language": "python",
      "name": "python3"
    },
    "language_info": {
      "codemirror_mode": {
        "name": "ipython",
        "version": 3
      },
      "file_extension": ".py",
      "mimetype": "text/x-python",
      "name": "python",
      "nbconvert_exporter": "python",
      "pygments_lexer": "ipython3",
      "version": "3.10.2"
    },
    "vscode": {
      "interpreter": {
        "hash": "aee8b7b246df8f9039afb4144a1f6fd8d2ca17a180786b69acc140d282b71a49"
      }
    }
  },
  "nbformat": 4,
  "nbformat_minor": 0
}
