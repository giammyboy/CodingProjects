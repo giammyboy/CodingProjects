{
 "cells": [
  {
   "cell_type": "code",
   "execution_count": 2,
   "metadata": {},
   "outputs": [],
   "source": [
    "import numpy as np\n",
    "import matplotlib.pyplot as plt\n"
   ]
  },
  {
   "cell_type": "code",
   "execution_count": 3,
   "metadata": {},
   "outputs": [],
   "source": [
    "def pH(concetration: float) -> float:\n",
    "    return -np.log10(concetration)"
   ]
  },
  {
   "cell_type": "code",
   "execution_count": 4,
   "metadata": {},
   "outputs": [],
   "source": [
    "# concentration of a non fully-dissociated acid\n",
    "def cnfda(ka:float, ca: float) -> float:\n",
    "    return np.sqrt(ka * ca)"
   ]
  },
  {
   "cell_type": "code",
   "execution_count": 5,
   "metadata": {},
   "outputs": [],
   "source": [
    "def nernst(E0: float, n=1.0, cOX=1.0, cRED=1.0) -> float: \n",
    "    return E0 + (0.059 / n) * np.log10(cOX / cRED)"
   ]
  },
  {
   "cell_type": "code",
   "execution_count": 6,
   "metadata": {},
   "outputs": [],
   "source": [
    "def plots(*args):\n",
    "    fig = plt.figure()\n",
    "    fig.align_ylabels()\n",
    "    axes = dict()\n",
    "    x = np.linspace(0, 20000, 1000)\n",
    "    for i in range(len(args)):\n",
    "        axes[i] = fig.add_subplot(1, len(args), i + 1)\n",
    "        axes[i].set_aspect(\"equal\")\n",
    "        axes[i].spines['top'].set_color('none')\n",
    "        axes[i].spines['left'].set_position('zero')\n",
    "        axes[i].spines['right'].set_color('none')\n",
    "        axes[i].spines['bottom'].set_position('zero')\n",
    "        axes[i].set_yscale(\"linear\")\n",
    "        axes[i].plot(x, args[i](x))\n"
   ]
  },
  {
   "cell_type": "code",
   "execution_count": 7,
   "metadata": {},
   "outputs": [],
   "source": [
    "def plots_all(*args):\n",
    "    fig = plt.figure()\n",
    "    x =np.linspace(-3, 3, 1000)\n",
    "    ax = fig.add_subplot()\n",
    "    ax = plt.gca()\n",
    "    ax.spines['top'].set_color('none')\n",
    "    ax.spines['left'].set_position('zero')\n",
    "    ax.spines['right'].set_color('none')\n",
    "    ax.spines['bottom'].set_position('zero')\n",
    "    ax.set_yscale(\"linear\")\n",
    "    plt.grid(True)\n",
    "    for i in range(len(args)):\n",
    "        ax.plot(x, args[i](x))\n",
    "    ax.set_aspect(\"equal\")"
   ]
  },
  {
   "cell_type": "code",
   "execution_count": 8,
   "metadata": {},
   "outputs": [],
   "source": [
    "def solve_quadratic(a:float, b:float, c:float) -> float:\n",
    "    deltasqrt = np.sqrt(b ** 2 - (4 * a * c))\n",
    "    x1 = (-b - deltasqrt) / (2 * a)\n",
    "    x2 = (-b + deltasqrt) / (2 * a)\n",
    "    return x1, x2"
   ]
  },
  {
   "cell_type": "code",
   "execution_count": 9,
   "metadata": {},
   "outputs": [],
   "source": [
    "R = 0.0821\n",
    "mm = {\n",
    "    \"CaCO3\" : 100.9,\n",
    "    \"MgCO3\" : 84.31,\n",
    "    \"HCl\" : 36.45,\n",
    "    \"C\" : 12.001,\n",
    "    \"O\" : 16.0,\n",
    "    \"H\" : 1.008,\n",
    "    \"N\" : 14.0,\n",
    "    \"KMnO4\" : 158.032,\n",
    "    \"I2\" : 253.8,\n",
    "    \"Ca(OH)2\" : 74.092,\n",
    "    \"Cr2O3\" : 151.989,\n",
    "    \"KNO3\" : 101.102,\n",
    "    \"Na2CrO4\" : 161.97,\n",
    "    \"CO2\" : 44.0,\n",
    "    \"KMnO2\" : 126.034,\n",
    "    \"KNO2\" : 85.103,\n",
    "    \"Fe2(SO4)3\" : 399.879,\n",
    "    \"C2H6O\" : 46.07,\n",
    "    \"NaClO3\" : 106.44,\n",
    "    \"NO\" : 30.0,\n",
    "    \"NaNO2\" : 69.0,\n",
    "    \"NaCl\" : 58.44,\n",
    "    \"Fe(OH)2\" : 89.859,\n",
    "    \"Na2SO4\" : 142.04,\n",
    "    \"NaOH\" : 40.0,\n",
    "    \"Al\" : 26.982,\n",
    "    \"K2S\" : 110.263,\n",
    "    \"MnCl2\" : 125.84,\n",
    "    \"SO2\" : 64.065,\n",
    "    \"Ag2SO4\" : 311.8,\n",
    "    \"CH3COOH\" : 60,\n",
    "}\n",
    "\n"
   ]
  },
  {
   "cell_type": "code",
   "execution_count": 10,
   "metadata": {},
   "outputs": [],
   "source": [
    "def cs(cs:float, kb: float) -> float:\n",
    "    return np.sqrt((10e-14 * cs) / kb)"
   ]
  },
  {
   "cell_type": "code",
   "execution_count": 20,
   "metadata": {},
   "outputs": [
    {
     "data": {
      "text/plain": [
       "-30"
      ]
     },
     "execution_count": 20,
     "metadata": {},
     "output_type": "execute_result"
    }
   ],
   "source": [
    "530-492-68"
   ]
  }
 ],
 "metadata": {
  "kernelspec": {
   "display_name": "Python 3",
   "language": "python",
   "name": "python3"
  },
  "language_info": {
   "codemirror_mode": {
    "name": "ipython",
    "version": 3
   },
   "file_extension": ".py",
   "mimetype": "text/x-python",
   "name": "python",
   "nbconvert_exporter": "python",
   "pygments_lexer": "ipython3",
   "version": "3.10.2"
  },
  "orig_nbformat": 4,
  "vscode": {
   "interpreter": {
    "hash": "aee8b7b246df8f9039afb4144a1f6fd8d2ca17a180786b69acc140d282b71a49"
   }
  }
 },
 "nbformat": 4,
 "nbformat_minor": 2
}
