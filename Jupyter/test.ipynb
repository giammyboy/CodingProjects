{
 "cells": [
  {
   "cell_type": "code",
   "execution_count": 1,
   "metadata": {},
   "outputs": [],
   "source": [
    "import numpy as np\n",
    "import matplotlib.pyplot as plt"
   ]
  },
  {
   "cell_type": "code",
   "execution_count": 2,
   "metadata": {},
   "outputs": [],
   "source": [
    "def plots(*args):\n",
    "    fig = plt.figure()\n",
    "    fig.align_ylabels()\n",
    "    axes = {}\n",
    "    x = np.linspace(0, 10, 1000)\n",
    "    for i in range(len(args)):\n",
    "        axes[i] = fig.add_subplot(1, len(args), i + 1)\n",
    "        axes[i].set_aspect(\"equal\")\n",
    "        axes[i].spines['top'].set_color('none')\n",
    "        axes[i].spines['left'].set_position('zero')\n",
    "        axes[i].spines['right'].set_color('none')\n",
    "        axes[i].spines['bottom'].set_position('zero')\n",
    "        axes[i].set_yscale(\"linear\")\n",
    "        axes[i].plot(x, args[i](x))"
   ]
  },
  {
   "cell_type": "code",
   "execution_count": 3,
   "metadata": {},
   "outputs": [],
   "source": [
    "def plots_all(*args, **kwargs):\n",
    "    min = -5\n",
    "    max = 5\n",
    "    n = 1000\n",
    "    for key in kwargs:\n",
    "        match key:\n",
    "            case \"min\":\n",
    "                min = kwargs[key]\n",
    "            case \"max\":\n",
    "                max = kwargs[key]\n",
    "            case \"n\":\n",
    "                n = kwargs[key]\n",
    "\n",
    "    fig = plt.figure()\n",
    "    x = np.linspace(min, max, n)\n",
    "    ax = fig.add_subplot()\n",
    "    plt.gca().set_aspect(\"equal\", adjustable=\"box\")\n",
    "    plt.xlim(min, max)\n",
    "    ax = plt.gca()\n",
    "    ax.spines['top'].set_color('none')\n",
    "    ax.spines['left'].set_position('zero')\n",
    "    ax.spines['right'].set_color('none')\n",
    "    ax.spines['bottom'].set_position('zero')\n",
    "    ax.set_yscale(\"linear\")\n",
    "    ax.set_xscale(\"linear\")\n",
    "    plt.grid(True)\n",
    "    for i in range(len(args)):\n",
    "        ax.plot(x, args[i](x))\n",
    "    ax.set_aspect(\"equal\")"
   ]
  },
  {
   "cell_type": "code",
   "execution_count": 4,
   "metadata": {},
   "outputs": [],
   "source": [
    "def f(x):\n",
    "    return np.e ** x\n",
    "\n",
    "def g(x):\n",
    "    return -2*x\n"
   ]
  },
  {
   "cell_type": "code",
   "execution_count": 10,
   "metadata": {},
   "outputs": [
    {
     "data": {
      "text/plain": [
       "1.82"
      ]
     },
     "execution_count": 10,
     "metadata": {},
     "output_type": "execute_result"
    }
   ],
   "source": [
    "ma = 10\n",
    "mb = 200\n",
    "k = 5*10**3\n",
    "lb = (-10**5 * 0.01 - ma * 10 + mb * 10) / -k + 2\n",
    "lb"
   ]
  }
 ],
 "metadata": {
  "kernelspec": {
   "display_name": "Python 3",
   "language": "python",
   "name": "python3"
  },
  "language_info": {
   "codemirror_mode": {
    "name": "ipython",
    "version": 3
   },
   "file_extension": ".py",
   "mimetype": "text/x-python",
   "name": "python",
   "nbconvert_exporter": "python",
   "pygments_lexer": "ipython3",
   "version": "3.10.2"
  },
  "orig_nbformat": 4
 },
 "nbformat": 4,
 "nbformat_minor": 2
}
