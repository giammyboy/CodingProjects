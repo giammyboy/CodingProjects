{
 "cells": [
  {
   "attachments": {},
   "cell_type": "markdown",
   "metadata": {},
   "source": [
    "Importing Block"
   ]
  },
  {
   "cell_type": "code",
   "execution_count": 1,
   "metadata": {},
   "outputs": [],
   "source": [
    "\n",
    "import matplotlib.pyplot as plt\n",
    "import numpy as np"
   ]
  },
  {
   "cell_type": "code",
   "execution_count": 2,
   "metadata": {},
   "outputs": [],
   "source": [
    "# Defining a function that takes a velocity in km/h and returns the velocity in m/s.\n",
    "def kmh_to_ms(velocity: float)-> float:\n",
    "    return velocity / 3.6\n",
    "\n",
    "# Defining a function that takes a velocity in m/s and returns the velocity in km/h.\n",
    "def ms_to_kmh(velocity: float)-> float:\n",
    "    return velocity * 3.6"
   ]
  },
  {
   "cell_type": "code",
   "execution_count": 3,
   "metadata": {},
   "outputs": [],
   "source": [
    "# Defining a function called gravitational_pull that takes three arguments, m1, m2, and d, and returns the gravitational pull between the two masses.\n",
    "def gravitational_pull(m1: float, m2: float, d: float) -> float: \n",
    "    return G * m1 * m2 / d ** 2"
   ]
  },
  {
   "cell_type": "code",
   "execution_count": 4,
   "metadata": {},
   "outputs": [],
   "source": [
    "def kinetic_e(mass: float, velocity: float) -> float:\n",
    "    return 0.5 * mass * velocity ** 2"
   ]
  },
  {
   "cell_type": "code",
   "execution_count": 5,
   "metadata": {},
   "outputs": [],
   "source": [
    "def plots(*args):\n",
    "    fig = plt.figure()\n",
    "    fig.align_ylabels()\n",
    "    axes = {}\n",
    "    x = np.linspace(0, 10, 1000)\n",
    "    for i in range(len(args)):\n",
    "        axes[i] = fig.add_subplot(1, len(args), i + 1)\n",
    "        axes[i].set_aspect(\"equal\")\n",
    "        axes[i].spines['top'].set_color('none')\n",
    "        axes[i].spines['left'].set_position('zero')\n",
    "        axes[i].spines['right'].set_color('none')\n",
    "        axes[i].spines['bottom'].set_position('zero')\n",
    "        axes[i].set_yscale(\"linear\")\n",
    "        axes[i].plot(x, args[i](x))\n"
   ]
  },
  {
   "cell_type": "code",
   "execution_count": 6,
   "metadata": {},
   "outputs": [],
   "source": [
    "def plots_all(*args):\n",
    "    fig = plt.figure()\n",
    "    x = np.linspace(-3, 3, 1000)\n",
    "    ax = fig.add_subplot()\n",
    "    ax = plt.gca()\n",
    "    ax.spines['top'].set_color('none')\n",
    "    ax.spines['left'].set_position('zero')\n",
    "    ax.spines['right'].set_color('none')\n",
    "    ax.spines['bottom'].set_position('zero')\n",
    "    ax.set_yscale(\"linear\")\n",
    "    plt.grid(True)\n",
    "    for i in range(len(args)):\n",
    "        ax.plot(x, args[i](x))\n",
    "    ax.set_aspect(\"equal\")"
   ]
  },
  {
   "cell_type": "code",
   "execution_count": 15,
   "metadata": {},
   "outputs": [
    {
     "data": {
      "text/plain": [
       "-239.06962323545795"
      ]
     },
     "execution_count": 15,
     "metadata": {},
     "output_type": "execute_result"
    }
   ],
   "source": [
    "g = 10\n",
    "m = 73\n",
    "v = 4.3\n",
    "a = 0.6\n",
    "h = 0.81\n",
    "r = .58\n",
    "ic = 2.6\n",
    "\n",
    "P = m * g * v * np.sin(a)\n",
    "M =  -  ( r) * m * g * np.sin(a)\n",
    "M"
   ]
  },
  {
   "cell_type": "code",
   "execution_count": null,
   "metadata": {},
   "outputs": [],
   "source": []
  }
 ],
 "metadata": {
  "kernelspec": {
   "display_name": "Python 3",
   "language": "python",
   "name": "python3"
  },
  "language_info": {
   "codemirror_mode": {
    "name": "ipython",
    "version": 3
   },
   "file_extension": ".py",
   "mimetype": "text/x-python",
   "name": "python",
   "nbconvert_exporter": "python",
   "pygments_lexer": "ipython3",
   "version": "3.10.2"
  },
  "orig_nbformat": 4,
  "vscode": {
   "interpreter": {
    "hash": "aee8b7b246df8f9039afb4144a1f6fd8d2ca17a180786b69acc140d282b71a49"
   }
  }
 },
 "nbformat": 4,
 "nbformat_minor": 2
}
